{
 "cells": [
  {
   "cell_type": "code",
   "execution_count": 1,
   "metadata": {},
   "outputs": [],
   "source": [
    "import numpy as np\n",
    "import pandas as pd\n",
    "import seaborn as sns\n",
    "import matplotlib.pyplot as plt"
   ]
  },
  {
   "cell_type": "code",
   "execution_count": 2,
   "metadata": {},
   "outputs": [
    {
     "data": {
      "text/html": [
       "<div>\n",
       "<style scoped>\n",
       "    .dataframe tbody tr th:only-of-type {\n",
       "        vertical-align: middle;\n",
       "    }\n",
       "\n",
       "    .dataframe tbody tr th {\n",
       "        vertical-align: top;\n",
       "    }\n",
       "\n",
       "    .dataframe thead th {\n",
       "        text-align: right;\n",
       "    }\n",
       "</style>\n",
       "<table border=\"1\" class=\"dataframe\">\n",
       "  <thead>\n",
       "    <tr style=\"text-align: right;\">\n",
       "      <th></th>\n",
       "      <th>State / Union territory (UT)</th>\n",
       "      <th>Area (km2)</th>\n",
       "      <th>Region</th>\n",
       "      <th>National Share (%)</th>\n",
       "    </tr>\n",
       "  </thead>\n",
       "  <tbody>\n",
       "    <tr>\n",
       "      <td>0</td>\n",
       "      <td>Rajasthan</td>\n",
       "      <td>342239</td>\n",
       "      <td>Northern</td>\n",
       "      <td>10.55</td>\n",
       "    </tr>\n",
       "    <tr>\n",
       "      <td>1</td>\n",
       "      <td>Madhya Pradesh</td>\n",
       "      <td>308350</td>\n",
       "      <td>Central</td>\n",
       "      <td>9.37</td>\n",
       "    </tr>\n",
       "    <tr>\n",
       "      <td>2</td>\n",
       "      <td>Maharashtra</td>\n",
       "      <td>307713</td>\n",
       "      <td>Western</td>\n",
       "      <td>9.36</td>\n",
       "    </tr>\n",
       "    <tr>\n",
       "      <td>3</td>\n",
       "      <td>Uttar Pradesh</td>\n",
       "      <td>240928</td>\n",
       "      <td>Northern</td>\n",
       "      <td>7.33</td>\n",
       "    </tr>\n",
       "    <tr>\n",
       "      <td>4</td>\n",
       "      <td>Gujarat</td>\n",
       "      <td>196024</td>\n",
       "      <td>Western</td>\n",
       "      <td>5.96</td>\n",
       "    </tr>\n",
       "  </tbody>\n",
       "</table>\n",
       "</div>"
      ],
      "text/plain": [
       "  State / Union territory (UT)  Area (km2)    Region  National Share (%)\n",
       "0                    Rajasthan      342239  Northern               10.55\n",
       "1               Madhya Pradesh      308350   Central                9.37\n",
       "2                  Maharashtra      307713   Western                9.36\n",
       "3                Uttar Pradesh      240928  Northern                7.33\n",
       "4                      Gujarat      196024   Western                5.96"
      ]
     },
     "execution_count": 2,
     "metadata": {},
     "output_type": "execute_result"
    }
   ],
   "source": [
    "state = pd.read_csv('datasets_737822_1290921_State_Region_corrected.csv')\n",
    "state.head()"
   ]
  },
  {
   "cell_type": "code",
   "execution_count": 3,
   "metadata": {},
   "outputs": [
    {
     "data": {
      "text/html": [
       "<div>\n",
       "<style scoped>\n",
       "    .dataframe tbody tr th:only-of-type {\n",
       "        vertical-align: middle;\n",
       "    }\n",
       "\n",
       "    .dataframe tbody tr th {\n",
       "        vertical-align: top;\n",
       "    }\n",
       "\n",
       "    .dataframe thead th {\n",
       "        text-align: right;\n",
       "    }\n",
       "</style>\n",
       "<table border=\"1\" class=\"dataframe\">\n",
       "  <thead>\n",
       "    <tr style=\"text-align: right;\">\n",
       "      <th></th>\n",
       "      <th>State / Union territory (UT)</th>\n",
       "      <th>Area (km2)</th>\n",
       "      <th>Region</th>\n",
       "      <th>National Share (%)</th>\n",
       "    </tr>\n",
       "  </thead>\n",
       "  <tbody>\n",
       "    <tr>\n",
       "      <td>29</td>\n",
       "      <td>Goa</td>\n",
       "      <td>3702</td>\n",
       "      <td>Western</td>\n",
       "      <td>0.110</td>\n",
       "    </tr>\n",
       "    <tr>\n",
       "      <td>30</td>\n",
       "      <td>Delhi</td>\n",
       "      <td>1483</td>\n",
       "      <td>Northern</td>\n",
       "      <td>0.040</td>\n",
       "    </tr>\n",
       "    <tr>\n",
       "      <td>31</td>\n",
       "      <td>Dadra and Nagar Haveli and Daman and Diu</td>\n",
       "      <td>603</td>\n",
       "      <td>Western</td>\n",
       "      <td>0.010</td>\n",
       "    </tr>\n",
       "    <tr>\n",
       "      <td>32</td>\n",
       "      <td>Puducherry</td>\n",
       "      <td>492</td>\n",
       "      <td>Southern</td>\n",
       "      <td>0.010</td>\n",
       "    </tr>\n",
       "    <tr>\n",
       "      <td>33</td>\n",
       "      <td>Chandigarh</td>\n",
       "      <td>114</td>\n",
       "      <td>Northern</td>\n",
       "      <td>0.003</td>\n",
       "    </tr>\n",
       "  </tbody>\n",
       "</table>\n",
       "</div>"
      ],
      "text/plain": [
       "                State / Union territory (UT)  Area (km2)    Region  \\\n",
       "29                                       Goa        3702   Western   \n",
       "30                                     Delhi        1483  Northern   \n",
       "31  Dadra and Nagar Haveli and Daman and Diu         603   Western   \n",
       "32                                Puducherry         492  Southern   \n",
       "33                                Chandigarh         114  Northern   \n",
       "\n",
       "    National Share (%)  \n",
       "29               0.110  \n",
       "30               0.040  \n",
       "31               0.010  \n",
       "32               0.010  \n",
       "33               0.003  "
      ]
     },
     "execution_count": 3,
     "metadata": {},
     "output_type": "execute_result"
    }
   ],
   "source": [
    "state.tail()"
   ]
  },
  {
   "cell_type": "code",
   "execution_count": 5,
   "metadata": {},
   "outputs": [
    {
     "data": {
      "text/plain": [
       "State / Union territory (UT)     object\n",
       "Area (km2)                        int64\n",
       "Region                           object\n",
       "National Share (%)              float64\n",
       "dtype: object"
      ]
     },
     "execution_count": 5,
     "metadata": {},
     "output_type": "execute_result"
    }
   ],
   "source": [
    "state.dtypes"
   ]
  },
  {
   "cell_type": "code",
   "execution_count": 11,
   "metadata": {},
   "outputs": [
    {
     "data": {
      "text/plain": [
       "0"
      ]
     },
     "execution_count": 11,
     "metadata": {},
     "output_type": "execute_result"
    }
   ],
   "source": [
    "state['State / Union territory (UT)'].isnull().sum().sum()"
   ]
  },
  {
   "cell_type": "code",
   "execution_count": 13,
   "metadata": {},
   "outputs": [
    {
     "data": {
      "text/plain": [
       "0"
      ]
     },
     "execution_count": 13,
     "metadata": {},
     "output_type": "execute_result"
    }
   ],
   "source": [
    "state['Area (km2)'].isnull().sum().sum()"
   ]
  },
  {
   "cell_type": "code",
   "execution_count": 14,
   "metadata": {},
   "outputs": [
    {
     "data": {
      "text/plain": [
       "0"
      ]
     },
     "execution_count": 14,
     "metadata": {},
     "output_type": "execute_result"
    }
   ],
   "source": [
    "state['Region'].isnull().sum().sum()"
   ]
  },
  {
   "cell_type": "code",
   "execution_count": 15,
   "metadata": {},
   "outputs": [
    {
     "data": {
      "text/plain": [
       "0"
      ]
     },
     "execution_count": 15,
     "metadata": {},
     "output_type": "execute_result"
    }
   ],
   "source": [
    "state['National Share (%)'].isnull().sum().sum()"
   ]
  },
  {
   "cell_type": "code",
   "execution_count": 20,
   "metadata": {},
   "outputs": [
    {
     "data": {
      "text/html": [
       "<div>\n",
       "<style scoped>\n",
       "    .dataframe tbody tr th:only-of-type {\n",
       "        vertical-align: middle;\n",
       "    }\n",
       "\n",
       "    .dataframe tbody tr th {\n",
       "        vertical-align: top;\n",
       "    }\n",
       "\n",
       "    .dataframe thead th {\n",
       "        text-align: right;\n",
       "    }\n",
       "</style>\n",
       "<table border=\"1\" class=\"dataframe\">\n",
       "  <thead>\n",
       "    <tr style=\"text-align: right;\">\n",
       "      <th></th>\n",
       "      <th>State</th>\n",
       "      <th>Area</th>\n",
       "      <th>Region</th>\n",
       "      <th>National_share</th>\n",
       "    </tr>\n",
       "  </thead>\n",
       "  <tbody>\n",
       "    <tr>\n",
       "      <td>0</td>\n",
       "      <td>Rajasthan</td>\n",
       "      <td>342239</td>\n",
       "      <td>Northern</td>\n",
       "      <td>10.55</td>\n",
       "    </tr>\n",
       "    <tr>\n",
       "      <td>1</td>\n",
       "      <td>Madhya Pradesh</td>\n",
       "      <td>308350</td>\n",
       "      <td>Central</td>\n",
       "      <td>9.37</td>\n",
       "    </tr>\n",
       "    <tr>\n",
       "      <td>2</td>\n",
       "      <td>Maharashtra</td>\n",
       "      <td>307713</td>\n",
       "      <td>Western</td>\n",
       "      <td>9.36</td>\n",
       "    </tr>\n",
       "    <tr>\n",
       "      <td>3</td>\n",
       "      <td>Uttar Pradesh</td>\n",
       "      <td>240928</td>\n",
       "      <td>Northern</td>\n",
       "      <td>7.33</td>\n",
       "    </tr>\n",
       "    <tr>\n",
       "      <td>4</td>\n",
       "      <td>Gujarat</td>\n",
       "      <td>196024</td>\n",
       "      <td>Western</td>\n",
       "      <td>5.96</td>\n",
       "    </tr>\n",
       "  </tbody>\n",
       "</table>\n",
       "</div>"
      ],
      "text/plain": [
       "            State    Area    Region  National_share\n",
       "0       Rajasthan  342239  Northern           10.55\n",
       "1  Madhya Pradesh  308350   Central            9.37\n",
       "2     Maharashtra  307713   Western            9.36\n",
       "3   Uttar Pradesh  240928  Northern            7.33\n",
       "4         Gujarat  196024   Western            5.96"
      ]
     },
     "execution_count": 20,
     "metadata": {},
     "output_type": "execute_result"
    }
   ],
   "source": [
    "state.rename(columns = {'State / Union territory (UT)' : 'State' , 'Area (km2)' : 'Area' ,'National Share (%)' : 'National_share'} , inplace = True )\n",
    "state.head()"
   ]
  },
  {
   "cell_type": "code",
   "execution_count": 21,
   "metadata": {},
   "outputs": [
    {
     "data": {
      "text/html": [
       "<div>\n",
       "<style scoped>\n",
       "    .dataframe tbody tr th:only-of-type {\n",
       "        vertical-align: middle;\n",
       "    }\n",
       "\n",
       "    .dataframe tbody tr th {\n",
       "        vertical-align: top;\n",
       "    }\n",
       "\n",
       "    .dataframe thead th {\n",
       "        text-align: right;\n",
       "    }\n",
       "</style>\n",
       "<table border=\"1\" class=\"dataframe\">\n",
       "  <thead>\n",
       "    <tr style=\"text-align: right;\">\n",
       "      <th></th>\n",
       "      <th>Date</th>\n",
       "      <th>Region</th>\n",
       "      <th>Thermal Generation Actual (in MU)</th>\n",
       "      <th>Thermal Generation Estimated (in MU)</th>\n",
       "      <th>Nuclear Generation Actual (in MU)</th>\n",
       "      <th>Nuclear Generation Estimated (in MU)</th>\n",
       "      <th>Hydro Generation Actual (in MU)</th>\n",
       "      <th>Hydro Generation Estimated (in MU)</th>\n",
       "    </tr>\n",
       "  </thead>\n",
       "  <tbody>\n",
       "    <tr>\n",
       "      <td>0</td>\n",
       "      <td>2017-09-01</td>\n",
       "      <td>Northern</td>\n",
       "      <td>624.23</td>\n",
       "      <td>484.21</td>\n",
       "      <td>30.36</td>\n",
       "      <td>35.57</td>\n",
       "      <td>273.27</td>\n",
       "      <td>320.81</td>\n",
       "    </tr>\n",
       "    <tr>\n",
       "      <td>1</td>\n",
       "      <td>2017-09-01</td>\n",
       "      <td>Western</td>\n",
       "      <td>1,106.89</td>\n",
       "      <td>1,024.33</td>\n",
       "      <td>25.17</td>\n",
       "      <td>3.81</td>\n",
       "      <td>72.00</td>\n",
       "      <td>21.53</td>\n",
       "    </tr>\n",
       "    <tr>\n",
       "      <td>2</td>\n",
       "      <td>2017-09-01</td>\n",
       "      <td>Southern</td>\n",
       "      <td>576.66</td>\n",
       "      <td>578.55</td>\n",
       "      <td>62.73</td>\n",
       "      <td>49.80</td>\n",
       "      <td>111.57</td>\n",
       "      <td>64.78</td>\n",
       "    </tr>\n",
       "    <tr>\n",
       "      <td>3</td>\n",
       "      <td>2017-09-01</td>\n",
       "      <td>Eastern</td>\n",
       "      <td>441.02</td>\n",
       "      <td>429.39</td>\n",
       "      <td>NaN</td>\n",
       "      <td>NaN</td>\n",
       "      <td>85.94</td>\n",
       "      <td>69.36</td>\n",
       "    </tr>\n",
       "    <tr>\n",
       "      <td>4</td>\n",
       "      <td>2017-09-01</td>\n",
       "      <td>NorthEastern</td>\n",
       "      <td>29.11</td>\n",
       "      <td>15.91</td>\n",
       "      <td>NaN</td>\n",
       "      <td>NaN</td>\n",
       "      <td>24.64</td>\n",
       "      <td>21.21</td>\n",
       "    </tr>\n",
       "  </tbody>\n",
       "</table>\n",
       "</div>"
      ],
      "text/plain": [
       "         Date        Region Thermal Generation Actual (in MU)  \\\n",
       "0  2017-09-01      Northern                            624.23   \n",
       "1  2017-09-01       Western                          1,106.89   \n",
       "2  2017-09-01      Southern                            576.66   \n",
       "3  2017-09-01       Eastern                            441.02   \n",
       "4  2017-09-01  NorthEastern                             29.11   \n",
       "\n",
       "  Thermal Generation Estimated (in MU)  Nuclear Generation Actual (in MU)  \\\n",
       "0                               484.21                              30.36   \n",
       "1                             1,024.33                              25.17   \n",
       "2                               578.55                              62.73   \n",
       "3                               429.39                                NaN   \n",
       "4                                15.91                                NaN   \n",
       "\n",
       "   Nuclear Generation Estimated (in MU)  Hydro Generation Actual (in MU)  \\\n",
       "0                                 35.57                           273.27   \n",
       "1                                  3.81                            72.00   \n",
       "2                                 49.80                           111.57   \n",
       "3                                   NaN                            85.94   \n",
       "4                                   NaN                            24.64   \n",
       "\n",
       "   Hydro Generation Estimated (in MU)  \n",
       "0                              320.81  \n",
       "1                               21.53  \n",
       "2                               64.78  \n",
       "3                               69.36  \n",
       "4                               21.21  "
      ]
     },
     "execution_count": 21,
     "metadata": {},
     "output_type": "execute_result"
    }
   ],
   "source": [
    "power = pd.read_csv('datasets_737822_1290921_file.csv')\n",
    "power.head()"
   ]
  },
  {
   "cell_type": "code",
   "execution_count": 22,
   "metadata": {},
   "outputs": [],
   "source": [
    "power['Thermal Generation Actual (in MU)'].fillna('0.0',inplace = True)"
   ]
  },
  {
   "cell_type": "code",
   "execution_count": 23,
   "metadata": {},
   "outputs": [],
   "source": [
    "power['Thermal Generation Estimated (in MU)'].fillna('0.0',inplace = True)"
   ]
  },
  {
   "cell_type": "code",
   "execution_count": 24,
   "metadata": {},
   "outputs": [],
   "source": [
    "power['Nuclear Generation Estimated (in MU)'].fillna('0.0',inplace = True)\n",
    "power['Hydro Generation Estimated (in MU)'].fillna('0.0',inplace = True)\n",
    "power['Nuclear Generation Actual (in MU)'].fillna('0.0',inplace = True)\n",
    "power['Hydro Generation Actual (in MU)'].fillna('0.0',inplace = True)"
   ]
  },
  {
   "cell_type": "code",
   "execution_count": 34,
   "metadata": {},
   "outputs": [
    {
     "data": {
      "text/plain": [
       "Northern        927\n",
       "Southern        927\n",
       "Western         927\n",
       "Eastern         927\n",
       "NorthEastern    927\n",
       "Name: Region, dtype: int64"
      ]
     },
     "execution_count": 34,
     "metadata": {},
     "output_type": "execute_result"
    }
   ],
   "source": [
    "power['Region'].value_counts()"
   ]
  },
  {
   "cell_type": "code",
   "execution_count": 35,
   "metadata": {},
   "outputs": [
    {
     "data": {
      "text/plain": [
       "Northern        10\n",
       "Northeastern     8\n",
       "Southern         6\n",
       "Western          4\n",
       "Eastern          4\n",
       "Central          2\n",
       "Name: Region, dtype: int64"
      ]
     },
     "execution_count": 35,
     "metadata": {},
     "output_type": "execute_result"
    }
   ],
   "source": [
    "state['Region'].value_counts()"
   ]
  },
  {
   "cell_type": "code",
   "execution_count": 37,
   "metadata": {},
   "outputs": [
    {
     "data": {
      "text/html": [
       "<div>\n",
       "<style scoped>\n",
       "    .dataframe tbody tr th:only-of-type {\n",
       "        vertical-align: middle;\n",
       "    }\n",
       "\n",
       "    .dataframe tbody tr th {\n",
       "        vertical-align: top;\n",
       "    }\n",
       "\n",
       "    .dataframe thead th {\n",
       "        text-align: right;\n",
       "    }\n",
       "</style>\n",
       "<table border=\"1\" class=\"dataframe\">\n",
       "  <thead>\n",
       "    <tr style=\"text-align: right;\">\n",
       "      <th></th>\n",
       "      <th>Date</th>\n",
       "      <th>Region</th>\n",
       "      <th>Thermal Generation Actual (in MU)</th>\n",
       "      <th>Thermal Generation Estimated (in MU)</th>\n",
       "      <th>Nuclear Generation Actual (in MU)</th>\n",
       "      <th>Nuclear Generation Estimated (in MU)</th>\n",
       "      <th>Hydro Generation Actual (in MU)</th>\n",
       "      <th>Hydro Generation Estimated (in MU)</th>\n",
       "      <th>State</th>\n",
       "      <th>Area</th>\n",
       "      <th>National_share</th>\n",
       "    </tr>\n",
       "  </thead>\n",
       "  <tbody>\n",
       "    <tr>\n",
       "      <td>0</td>\n",
       "      <td>2017-09-01</td>\n",
       "      <td>Northern</td>\n",
       "      <td>624.23</td>\n",
       "      <td>484.21</td>\n",
       "      <td>30.36</td>\n",
       "      <td>35.57</td>\n",
       "      <td>273.27</td>\n",
       "      <td>320.81</td>\n",
       "      <td>Rajasthan</td>\n",
       "      <td>342239.0</td>\n",
       "      <td>10.55</td>\n",
       "    </tr>\n",
       "    <tr>\n",
       "      <td>1</td>\n",
       "      <td>2017-09-01</td>\n",
       "      <td>Northern</td>\n",
       "      <td>624.23</td>\n",
       "      <td>484.21</td>\n",
       "      <td>30.36</td>\n",
       "      <td>35.57</td>\n",
       "      <td>273.27</td>\n",
       "      <td>320.81</td>\n",
       "      <td>Uttar Pradesh</td>\n",
       "      <td>240928.0</td>\n",
       "      <td>7.33</td>\n",
       "    </tr>\n",
       "    <tr>\n",
       "      <td>2</td>\n",
       "      <td>2017-09-01</td>\n",
       "      <td>Northern</td>\n",
       "      <td>624.23</td>\n",
       "      <td>484.21</td>\n",
       "      <td>30.36</td>\n",
       "      <td>35.57</td>\n",
       "      <td>273.27</td>\n",
       "      <td>320.81</td>\n",
       "      <td>Ladakh</td>\n",
       "      <td>59146.0</td>\n",
       "      <td>1.80</td>\n",
       "    </tr>\n",
       "    <tr>\n",
       "      <td>3</td>\n",
       "      <td>2017-09-01</td>\n",
       "      <td>Northern</td>\n",
       "      <td>624.23</td>\n",
       "      <td>484.21</td>\n",
       "      <td>30.36</td>\n",
       "      <td>35.57</td>\n",
       "      <td>273.27</td>\n",
       "      <td>320.81</td>\n",
       "      <td>Himachal Pradesh</td>\n",
       "      <td>55673.0</td>\n",
       "      <td>1.70</td>\n",
       "    </tr>\n",
       "    <tr>\n",
       "      <td>4</td>\n",
       "      <td>2017-09-01</td>\n",
       "      <td>Northern</td>\n",
       "      <td>624.23</td>\n",
       "      <td>484.21</td>\n",
       "      <td>30.36</td>\n",
       "      <td>35.57</td>\n",
       "      <td>273.27</td>\n",
       "      <td>320.81</td>\n",
       "      <td>Uttarakhand</td>\n",
       "      <td>53483.0</td>\n",
       "      <td>1.62</td>\n",
       "    </tr>\n",
       "    <tr>\n",
       "      <td>...</td>\n",
       "      <td>...</td>\n",
       "      <td>...</td>\n",
       "      <td>...</td>\n",
       "      <td>...</td>\n",
       "      <td>...</td>\n",
       "      <td>...</td>\n",
       "      <td>...</td>\n",
       "      <td>...</td>\n",
       "      <td>...</td>\n",
       "      <td>...</td>\n",
       "      <td>...</td>\n",
       "    </tr>\n",
       "    <tr>\n",
       "      <td>23170</td>\n",
       "      <td>2020-03-17</td>\n",
       "      <td>Eastern</td>\n",
       "      <td>498.78</td>\n",
       "      <td>575.93</td>\n",
       "      <td>0.0</td>\n",
       "      <td>0.0</td>\n",
       "      <td>30.34</td>\n",
       "      <td>31.46</td>\n",
       "      <td>Odisha</td>\n",
       "      <td>155707.0</td>\n",
       "      <td>4.73</td>\n",
       "    </tr>\n",
       "    <tr>\n",
       "      <td>23171</td>\n",
       "      <td>2020-03-17</td>\n",
       "      <td>Eastern</td>\n",
       "      <td>498.78</td>\n",
       "      <td>575.93</td>\n",
       "      <td>0.0</td>\n",
       "      <td>0.0</td>\n",
       "      <td>30.34</td>\n",
       "      <td>31.46</td>\n",
       "      <td>Bihar</td>\n",
       "      <td>94163.0</td>\n",
       "      <td>2.86</td>\n",
       "    </tr>\n",
       "    <tr>\n",
       "      <td>23172</td>\n",
       "      <td>2020-03-17</td>\n",
       "      <td>Eastern</td>\n",
       "      <td>498.78</td>\n",
       "      <td>575.93</td>\n",
       "      <td>0.0</td>\n",
       "      <td>0.0</td>\n",
       "      <td>30.34</td>\n",
       "      <td>31.46</td>\n",
       "      <td>West Bengal</td>\n",
       "      <td>88752.0</td>\n",
       "      <td>2.70</td>\n",
       "    </tr>\n",
       "    <tr>\n",
       "      <td>23173</td>\n",
       "      <td>2020-03-17</td>\n",
       "      <td>Eastern</td>\n",
       "      <td>498.78</td>\n",
       "      <td>575.93</td>\n",
       "      <td>0.0</td>\n",
       "      <td>0.0</td>\n",
       "      <td>30.34</td>\n",
       "      <td>31.46</td>\n",
       "      <td>Jharkhand</td>\n",
       "      <td>79714.0</td>\n",
       "      <td>2.42</td>\n",
       "    </tr>\n",
       "    <tr>\n",
       "      <td>23174</td>\n",
       "      <td>2020-03-17</td>\n",
       "      <td>NorthEastern</td>\n",
       "      <td>34.28</td>\n",
       "      <td>34.83</td>\n",
       "      <td>0.0</td>\n",
       "      <td>0.0</td>\n",
       "      <td>10.37</td>\n",
       "      <td>4.09</td>\n",
       "      <td>NaN</td>\n",
       "      <td>NaN</td>\n",
       "      <td>NaN</td>\n",
       "    </tr>\n",
       "  </tbody>\n",
       "</table>\n",
       "<p>23175 rows × 11 columns</p>\n",
       "</div>"
      ],
      "text/plain": [
       "             Date        Region Thermal Generation Actual (in MU)  \\\n",
       "0      2017-09-01      Northern                            624.23   \n",
       "1      2017-09-01      Northern                            624.23   \n",
       "2      2017-09-01      Northern                            624.23   \n",
       "3      2017-09-01      Northern                            624.23   \n",
       "4      2017-09-01      Northern                            624.23   \n",
       "...           ...           ...                               ...   \n",
       "23170  2020-03-17       Eastern                            498.78   \n",
       "23171  2020-03-17       Eastern                            498.78   \n",
       "23172  2020-03-17       Eastern                            498.78   \n",
       "23173  2020-03-17       Eastern                            498.78   \n",
       "23174  2020-03-17  NorthEastern                             34.28   \n",
       "\n",
       "      Thermal Generation Estimated (in MU) Nuclear Generation Actual (in MU)  \\\n",
       "0                                   484.21                             30.36   \n",
       "1                                   484.21                             30.36   \n",
       "2                                   484.21                             30.36   \n",
       "3                                   484.21                             30.36   \n",
       "4                                   484.21                             30.36   \n",
       "...                                    ...                               ...   \n",
       "23170                               575.93                               0.0   \n",
       "23171                               575.93                               0.0   \n",
       "23172                               575.93                               0.0   \n",
       "23173                               575.93                               0.0   \n",
       "23174                                34.83                               0.0   \n",
       "\n",
       "      Nuclear Generation Estimated (in MU)  Hydro Generation Actual (in MU)  \\\n",
       "0                                    35.57                           273.27   \n",
       "1                                    35.57                           273.27   \n",
       "2                                    35.57                           273.27   \n",
       "3                                    35.57                           273.27   \n",
       "4                                    35.57                           273.27   \n",
       "...                                    ...                              ...   \n",
       "23170                                  0.0                            30.34   \n",
       "23171                                  0.0                            30.34   \n",
       "23172                                  0.0                            30.34   \n",
       "23173                                  0.0                            30.34   \n",
       "23174                                  0.0                            10.37   \n",
       "\n",
       "       Hydro Generation Estimated (in MU)             State      Area  \\\n",
       "0                                  320.81         Rajasthan  342239.0   \n",
       "1                                  320.81     Uttar Pradesh  240928.0   \n",
       "2                                  320.81            Ladakh   59146.0   \n",
       "3                                  320.81  Himachal Pradesh   55673.0   \n",
       "4                                  320.81       Uttarakhand   53483.0   \n",
       "...                                   ...               ...       ...   \n",
       "23170                               31.46            Odisha  155707.0   \n",
       "23171                               31.46             Bihar   94163.0   \n",
       "23172                               31.46       West Bengal   88752.0   \n",
       "23173                               31.46         Jharkhand   79714.0   \n",
       "23174                                4.09               NaN       NaN   \n",
       "\n",
       "       National_share  \n",
       "0               10.55  \n",
       "1                7.33  \n",
       "2                1.80  \n",
       "3                1.70  \n",
       "4                1.62  \n",
       "...               ...  \n",
       "23170            4.73  \n",
       "23171            2.86  \n",
       "23172            2.70  \n",
       "23173            2.42  \n",
       "23174             NaN  \n",
       "\n",
       "[23175 rows x 11 columns]"
      ]
     },
     "execution_count": 37,
     "metadata": {},
     "output_type": "execute_result"
    }
   ],
   "source": [
    "df = pd.merge(power , state , how = 'left', on = 'Region' )\n",
    "df"
   ]
  },
  {
   "cell_type": "code",
   "execution_count": 43,
   "metadata": {},
   "outputs": [
    {
     "data": {
      "text/plain": [
       "Date                                      0\n",
       "Region                                    0\n",
       "Thermal Generation Actual (in MU)         0\n",
       "Thermal Generation Estimated (in MU)      0\n",
       "Nuclear Generation Actual (in MU)         0\n",
       "Nuclear Generation Estimated (in MU)      0\n",
       "Hydro Generation Actual (in MU)           0\n",
       "Hydro Generation Estimated (in MU)        0\n",
       "State                                   927\n",
       "Area                                    927\n",
       "National_share                          927\n",
       "dtype: int64"
      ]
     },
     "execution_count": 43,
     "metadata": {},
     "output_type": "execute_result"
    }
   ],
   "source": [
    "df.isnull().sum()"
   ]
  },
  {
   "cell_type": "code",
   "execution_count": 53,
   "metadata": {},
   "outputs": [],
   "source": [
    "df.dropna(inplace =True)"
   ]
  },
  {
   "cell_type": "code",
   "execution_count": 54,
   "metadata": {},
   "outputs": [
    {
     "data": {
      "text/plain": [
       "Date                                    0\n",
       "Region                                  0\n",
       "Thermal Generation Actual (in MU)       0\n",
       "Thermal Generation Estimated (in MU)    0\n",
       "Nuclear Generation Actual (in MU)       0\n",
       "Nuclear Generation Estimated (in MU)    0\n",
       "Hydro Generation Actual (in MU)         0\n",
       "Hydro Generation Estimated (in MU)      0\n",
       "State                                   0\n",
       "Area                                    0\n",
       "National_share                          0\n",
       "dtype: int64"
      ]
     },
     "execution_count": 54,
     "metadata": {},
     "output_type": "execute_result"
    }
   ],
   "source": [
    "df.isnull().sum()"
   ]
  },
  {
   "cell_type": "code",
   "execution_count": 56,
   "metadata": {},
   "outputs": [
    {
     "data": {
      "text/plain": [
       "(22248, 11)"
      ]
     },
     "execution_count": 56,
     "metadata": {},
     "output_type": "execute_result"
    }
   ],
   "source": [
    "df.shape"
   ]
  },
  {
   "cell_type": "code",
   "execution_count": 59,
   "metadata": {},
   "outputs": [],
   "source": [
    "df.to_csv('Final_data.csv')"
   ]
  }
 ],
 "metadata": {
  "kernelspec": {
   "display_name": "Python 3",
   "language": "python",
   "name": "python3"
  },
  "language_info": {
   "codemirror_mode": {
    "name": "ipython",
    "version": 3
   },
   "file_extension": ".py",
   "mimetype": "text/x-python",
   "name": "python",
   "nbconvert_exporter": "python",
   "pygments_lexer": "ipython3",
   "version": "3.7.4"
  }
 },
 "nbformat": 4,
 "nbformat_minor": 2
}
